{
 "cells": [
  {
   "cell_type": "code",
   "execution_count": 3,
   "metadata": {
    "collapsed": true
   },
   "outputs": [],
   "source": [
    "import pandas as pd\n",
    "from sewar.full_ref import mse, rmse, psnr, uqi, ssim, ergas, scc, rase, sam, msssim, vifp\n",
    "import threading\n",
    "import cv2\n",
    "from src.utils.Util import *\n",
    "import psutil\n",
    "import os\n"
   ]
  },
  {
   "cell_type": "code",
   "execution_count": 13,
   "outputs": [],
   "source": [
    "def thread_function(data, image_path, directory_path, dim, org):\n",
    "    blur = cv2.imread(f'{directory_path}{image_path}')\n",
    "    blur = cv2.resize(blur, dim)\n",
    "    data.append(\n",
    "        [image_path, mse(blur, org), rmse(blur, org), psnr(blur, org), uqi(blur, org), msssim(blur, org), ergas(blur, org),\n",
    "         scc(blur, org), rase(blur, org), sam(blur, org), vifp(blur, org)])"
   ],
   "metadata": {
    "collapsed": false
   }
  },
  {
   "cell_type": "code",
   "execution_count": 16,
   "outputs": [],
   "source": [
    "def get_similar_image(reference_image):\n",
    "    dim = (400, 400)\n",
    "\n",
    "    ref = cv2.imread(reference_image)\n",
    "    ref = cv2.resize(ref, dim)\n",
    "\n",
    "    data = []\n",
    "    directory_path = '../../../data/Ground Truth/Newspapers/ddd/'\n",
    "    threads = list()\n",
    "    for image in progress_bar(os.listdir(directory_path)[:100]):\n",
    "        if image == reference_image:\n",
    "            continue\n",
    "        # while threading.active_count() > 40:\n",
    "        #     time.sleep(0.01)\n",
    "        # while psutil.cpu_percent() > 99:\n",
    "        #     # time.sleep(0.01)\n",
    "        #     for thread in progress_bar(threads, desc=f\"Joining threads:\"):\n",
    "        #         thread.join()\n",
    "        x = threading.Thread(target=thread_function, args=(data, image, directory_path, dim, ref,))\n",
    "        x.start()\n",
    "        threads.append(x)\n",
    "\n",
    "    for thread in progress_bar(threads, desc='Joining threads:'):\n",
    "        thread.join()\n",
    "\n",
    "    columns = ['MSE', 'RMSE', 'PSNR', 'UQI', 'MSSSIM', 'ERGAS', 'SCC', 'RASE', 'SAM', 'VIF']\n",
    "    df = pd.DataFrame(data,\n",
    "                      columns=['FILE', 'MSE', 'RMSE', 'PSNR', 'UQI', 'MSSSIM', 'ERGAS', 'SCC', 'RASE', 'SAM', 'VIF'])\n",
    "    # print(df['SSIM'])\n",
    "    for column in columns:\n",
    "        df[column] = df[column] / df[column].abs().max()\n",
    "\n",
    "    return df"
   ],
   "metadata": {
    "collapsed": false
   }
  },
  {
   "cell_type": "code",
   "execution_count": 17,
   "outputs": [
    {
     "data": {
      "text/plain": "  0%|          | 0/100 [00:00<?, ?it/s]",
      "application/vnd.jupyter.widget-view+json": {
       "version_major": 2,
       "version_minor": 0,
       "model_id": "a74e54fa1d814527b972aa425f7895c3"
      },
      "application/json": {
       "n": 0,
       "total": 100,
       "elapsed": 0.010124444961547852,
       "ncols": null,
       "nrows": null,
       "prefix": "",
       "ascii": false,
       "unit": "it",
       "unit_scale": false,
       "rate": null,
       "bar_format": null,
       "postfix": null,
       "unit_divisor": 1000,
       "initial": 0,
       "colour": null
      }
     },
     "metadata": {},
     "output_type": "display_data"
    },
    {
     "data": {
      "text/plain": "Joining threads::   0%|          | 0/100 [00:02<?, ?it/s]",
      "application/vnd.jupyter.widget-view+json": {
       "version_major": 2,
       "version_minor": 0,
       "model_id": "41387725a17f42388e395f994730e8ec"
      },
      "application/json": {
       "n": 0,
       "total": 100,
       "elapsed": 2.5918161869049072,
       "ncols": null,
       "nrows": null,
       "prefix": "Joining threads:",
       "ascii": false,
       "unit": "it",
       "unit_scale": false,
       "rate": null,
       "bar_format": null,
       "postfix": null,
       "unit_divisor": 1000,
       "initial": 0,
       "colour": null
      }
     },
     "metadata": {},
     "output_type": "display_data"
    }
   ],
   "source": [
    "reference_image = '../../images/templates/white.jpg'\n",
    "\n",
    "df = get_similar_image(reference_image)"
   ],
   "metadata": {
    "collapsed": false
   }
  },
  {
   "cell_type": "code",
   "execution_count": 18,
   "outputs": [
    {
     "name": "stdout",
     "output_type": "stream",
     "text": [
      "           FILE       MSE      RMSE      PSNR       UQI              MSSSIM  \\\n",
      "0  00530984.tif  0.357546  0.597952  0.959308  0.987860  0.688904+0.000000j   \n",
      "1  00530988.tif  0.352082  0.593365  0.964219  0.987790  0.697388+0.000000j   \n",
      "2  00530985.tif  0.379712  0.616208  0.940130  0.985425  0.533141+0.000000j   \n",
      "3  00530991.tif  0.547459  0.739905  0.823466  0.948336  0.562302+0.000000j   \n",
      "4  00531000.tif  0.447048  0.668616  0.888074  0.964938  0.797168+0.000000j   \n",
      "\n",
      "      ERGAS       SCC      RASE       SAM       VIF  \n",
      "0  0.455503 -0.211127  0.454981  0.685381  0.534428  \n",
      "1  0.450444 -0.754973  0.449811  0.696318  0.513319  \n",
      "2  0.463368  0.448105  0.462797  0.792813  0.640777  \n",
      "3  0.610280  0.540283  0.609650  0.843716  0.460446  \n",
      "4  0.536052 -0.242219  0.536063  0.646586  0.529441  \n"
     ]
    }
   ],
   "source": [
    "print(df.head())"
   ],
   "metadata": {
    "collapsed": false
   }
  },
  {
   "cell_type": "code",
   "execution_count": null,
   "outputs": [],
   "source": [],
   "metadata": {
    "collapsed": false
   }
  }
 ],
 "metadata": {
  "kernelspec": {
   "display_name": "Python 3",
   "language": "python",
   "name": "python3"
  },
  "language_info": {
   "codemirror_mode": {
    "name": "ipython",
    "version": 2
   },
   "file_extension": ".py",
   "mimetype": "text/x-python",
   "name": "python",
   "nbconvert_exporter": "python",
   "pygments_lexer": "ipython2",
   "version": "2.7.6"
  }
 },
 "nbformat": 4,
 "nbformat_minor": 0
}
